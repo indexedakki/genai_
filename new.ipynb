{
 "cells": [
  {
   "cell_type": "code",
   "execution_count": null,
   "metadata": {},
   "outputs": [],
   "source": [
    "\n",
    "def requests_map(servers, requests):\n",
    "    length_requests = len(requests)\n",
    "    mapped_requests = {}\n",
    "    \n",
    "    # Expand servers based on their multipliers\n",
    "    servers_copy = []\n",
    "    for server, multiplier in servers:\n",
    "        servers_copy.extend([server] * multiplier)\n",
    "    \n",
    "    # Map requests to servers\n",
    "    for i in range(length_requests):\n",
    "        mapped_requests[requests[i]] = servers_copy[i]\n",
    "    \n",
    "    print(mapped_requests)\n",
    "\n",
    "# Example usage\n",
    "servers = [(\"192.168.1.1\", 2), (\"192.168.1.2\", 3), (\"192.168.1.3\", 1)]\n",
    "requests = [1, 2, 3, 4, 5, 6]\n",
    "requests_map(servers, requests)"
   ]
  },
  {
   "cell_type": "code",
   "execution_count": 3,
   "metadata": {},
   "outputs": [
    {
     "data": {
      "text/plain": [
       "['192.168.1.1', 2, '192.168.1.2', 3, '192.168.1.3', 1]"
      ]
     },
     "execution_count": 3,
     "metadata": {},
     "output_type": "execute_result"
    }
   ],
   "source": [
    "servers = [(\"192.168.1.1\", 2), (\"192.168.1.2\", 3), (\"192.168.1.3\", 1)]\n",
    "\n",
    "flattened = [j for i in servers for j in i]\n",
    "flattened"
   ]
  },
  {
   "cell_type": "code",
   "execution_count": 10,
   "metadata": {},
   "outputs": [
    {
     "name": "stdout",
     "output_type": "stream",
     "text": [
      "[['192.168.1.1', 2], ['192.168.1.2', 3], ['192.168.1.3', 1]]\n",
      "{1: '192.168.1.1', 2: '192.168.1.1', 3: '192.168.1.2', 4: '192.168.1.2', 5: '192.168.1.2', 6: '192.168.1.3'}\n"
     ]
    }
   ],
   "source": [
    "def requests_map(servers, requests):\n",
    "    servers_copy = {}\n",
    "    j = 0\n",
    "    servers = [list(server) for server in servers]\n",
    "    print(servers)\n",
    "    for i in requests:\n",
    "        if servers[j][1] > 0:\n",
    "            servers_copy[i] = servers[j][0]\n",
    "            servers[j][1] -= 1\n",
    "            if servers[j][1] == 0 :\n",
    "                j += 1\n",
    "        if j > len(servers):\n",
    "            break\n",
    "    print(servers_copy)\n",
    "\n",
    "\n",
    "# Example usage\n",
    "servers = [(\"192.168.1.1\", 2), (\"192.168.1.2\", 3), (\"192.168.1.3\", 1)]\n",
    "requests = [1, 2, 3, 4, 5, 6]\n",
    "requests_map(servers, requests)"
   ]
  },
  {
   "cell_type": "code",
   "execution_count": null,
   "metadata": {},
   "outputs": [],
   "source": [
    "def logger(func):\n",
    "    def wrapped(*args, **kwargs):\n",
    "        print(f\"Calling function  {func.__name__} with args {args}\")\n",
    "        result = func(*args, **kwargs)\n",
    "        print(f\"Function returned {result}\")\n",
    "        return result\n",
    "    return wrapped\n",
    "\n",
    "@logger\n",
    "def add(a,b):\n",
    "    return a+b\n",
    "\n",
    "print(add(4,5))\n"
   ]
  },
  {
   "cell_type": "code",
   "execution_count": 11,
   "metadata": {},
   "outputs": [
    {
     "name": "stdout",
     "output_type": "stream",
     "text": [
      "<generator object fibonacci at 0x0000020CBDE20220>\n"
     ]
    }
   ],
   "source": [
    "def fibonacci(n):\n",
    "    a = 0\n",
    "    b = 1\n",
    "\n",
    "    for i in range(2, len(n)):\n",
    "        a, b = b, a+b\n",
    "        yield b\n",
    "\n",
    "print(fibonacci(5))"
   ]
  },
  {
   "cell_type": "code",
   "execution_count": null,
   "metadata": {},
   "outputs": [],
   "source": []
  }
 ],
 "metadata": {
  "kernelspec": {
   "display_name": "env",
   "language": "python",
   "name": "python3"
  },
  "language_info": {
   "codemirror_mode": {
    "name": "ipython",
    "version": 3
   },
   "file_extension": ".py",
   "mimetype": "text/x-python",
   "name": "python",
   "nbconvert_exporter": "python",
   "pygments_lexer": "ipython3",
   "version": "3.12.2"
  }
 },
 "nbformat": 4,
 "nbformat_minor": 2
}
