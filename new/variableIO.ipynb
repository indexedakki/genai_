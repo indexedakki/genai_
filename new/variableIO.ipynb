{
 "cells": [
  {
   "cell_type": "code",
   "execution_count": null,
   "metadata": {},
   "outputs": [],
   "source": [
    "!pip install transformers\n",
    "!pip install datasets\n",
    "!pip install huggingface_hub\n",
    "\n",
    "import pandas as pd\n",
    "import datasets\n",
    "from pprint import pprint\n",
    "from transformers import AutoTokenizer"
   ]
  },
  {
   "cell_type": "code",
   "execution_count": null,
   "metadata": {},
   "outputs": [],
   "source": [
    "from huggingface_hub import notebook_login\n",
    "notebook_login()\n",
    "\n",
    "tokenizer = AutoTokenizer.from_pretrained(\"TinyPixel/Llama-2-7B-bf16-sharded\")  # or stabilityai/stablecode-instruct-alpha-3b\n",
    "text = \"I am in Sydney.\"\n",
    "\n",
    "tokenized_text = tokenizer(text)[\"input_ids\"]\n",
    "tokenized_text\n",
    "\n",
    "Untokenized_text = tokenizer.decode(tokenized_text)\n",
    "Untokenized_text\n",
    "\n"
   ]
  },
  {
   "cell_type": "code",
   "execution_count": null,
   "metadata": {},
   "outputs": [],
   "source": [
    "list_text = [\"I am in Sydney\", \"Near Bronte Beach\", \"Not near Blue mountains\", \"wow\"]\n",
    "tokenized_text = tokenizer(list_text)\n",
    "tokenized_text[\"input_ids\"]"
   ]
  },
  {
   "cell_type": "code",
   "execution_count": null,
   "metadata": {},
   "outputs": [],
   "source": [
    "tokenizer.pad_token = tokenizer.eos_token \n",
    "tokenized_texts_longest = tokenizer(list_text, padding=True)\n",
    "tokenized_texts_longest[\"input_ids\"]"
   ]
  },
  {
   "cell_type": "code",
   "execution_count": null,
   "metadata": {},
   "outputs": [],
   "source": [
    "tokenized_texts_final = tokenizer(list_text, max_length=3, truncation=True, padding=True)\n",
    "tokenized_texts_final[\"input_ids\"]"
   ]
  },
  {
   "cell_type": "code",
   "execution_count": null,
   "metadata": {},
   "outputs": [],
   "source": [
    "class Node():\n",
    "    def __init__(self, val=0, next=None):\n",
    "        self.val = val\n",
    "        self.next = next\n",
    "\n",
    "class solution:\n",
    "    def reverse_linked_list(self, head: Node):\n",
    "        reverse_linked_list = None\n",
    "        curreent_node = head\n",
    "\n",
    "        while curreent_node:\n",
    "            next_node_to_current = curreent_node.next\n",
    "            curreent_node.next = reverse_linked_list\n",
    "            reverse_linked_list = curreent_node\n",
    "            curreent_node = next_node_to_current\n",
    "        \n",
    "        return reverse_linked_list\n",
    "\n",
    "head = Node(1)\n",
    "head.next = Node(2)\n",
    "head.next.next = Node(3)\n",
    "obj = solution()\n",
    "obj.reverse_linked_list(head)\n",
    "# root=TreeNode(3)\n",
    "# root.right=TreeNode(20)\n",
    "# root.left=TreeNode(9)\n",
    "# root.right.left=TreeNode(15)\n",
    "# root.right.right=TreeNode(7)\n",
    "# obj = solution()\n",
    "# obj.maxDepth(root)\n"
   ]
  }
 ],
 "metadata": {
  "kernelspec": {
   "display_name": "env",
   "language": "python",
   "name": "python3"
  },
  "language_info": {
   "name": "python",
   "version": "3.12.2"
  }
 },
 "nbformat": 4,
 "nbformat_minor": 2
}
